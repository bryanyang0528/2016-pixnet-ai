{
 "cells": [
  {
   "cell_type": "code",
   "execution_count": 1,
   "metadata": {
    "collapsed": false
   },
   "outputs": [],
   "source": [
    "import os, gensim, re\n",
    "class MySentences(object):\n",
    "    def __init__(self, dirname):\n",
    "        self.dirname = dirname\n",
    " \n",
    "    def __iter__(self):\n",
    "        for fname in os.listdir(self.dirname):\n",
    "            with open(self.dirname + '/' + fname, 'r') as f:\n",
    "                context = f.read()\n",
    "            sentences = self.clean_context(context)[40 : -3]\n",
    "            for s in sentences:\n",
    "                yield s\n",
    "            \n",
    "    def clean_context(self, context):\n",
    "        words = re.sub('[\\r]|[\\n]', ' ', context)\n",
    "        words = re.sub('([a-z0-9])(\\W{2,})', r'\\1 \\2', words)\n",
    "        words = re.sub('(\\W{2,})([a-zA-z0-9])', r'\\1 \\2', words)\n",
    "        words = re.sub('\\s+', ' ', words)\n",
    "        words = re.sub('\\W{3,}', '\\n', words)\n",
    "        raw = words.split('\\n')\n",
    "        sentences = []\n",
    "        for r in raw:\n",
    "            s = r.split(' ')\n",
    "            if len(s) > 3:\n",
    "                sentences.append(s)\n",
    "        return sentences\n",
    "    def get_sentences(self):\n",
    "        for fname in os.listdir(self.dirname):\n",
    "            with open(self.dirname + '/' + fname, 'r') as f:\n",
    "                context = f.read()\n",
    "            sentences = self.clean_context(context)[40 : -3]\n",
    "            for s in sentences:\n",
    "                if len(s) > 3:\n",
    "                    yield s\n",
    "    "
   ]
  },
  {
   "cell_type": "code",
   "execution_count": 279,
   "metadata": {
    "collapsed": false
   },
   "outputs": [],
   "source": [
    "sentences = MySentences('harry_potter')\n",
    "model = gensim.models.Word2Vec(sentences, window = 3, min_count = 10, size = 100, iter = 100)"
   ]
  },
  {
   "cell_type": "code",
   "execution_count": 356,
   "metadata": {
    "collapsed": false
   },
   "outputs": [
    {
     "data": {
      "text/plain": [
       "[('Hermione', 0.7037445306777954),\n",
       " ('he', 0.6590071320533752),\n",
       " ('Neville', 0.607902467250824),\n",
       " ('He', 0.6012082695960999),\n",
       " ('Ron', 0.5625587701797485),\n",
       " ('they', 0.5517400503158569),\n",
       " ('she', 0.5463984608650208),\n",
       " ('Cho', 0.5452430248260498),\n",
       " ('They', 0.5412119030952454),\n",
       " ('Hagrid', 0.5280702710151672)]"
      ]
     },
     "execution_count": 356,
     "metadata": {},
     "output_type": "execute_result"
    }
   ],
   "source": [
    "model.most_similar(positive = ['Harry', 'Malfoy'], negative = ['Lucius'], topn = 10)"
   ]
  },
  {
   "cell_type": "code",
   "execution_count": 350,
   "metadata": {
    "collapsed": false
   },
   "outputs": [
    {
     "data": {
      "text/plain": [
       "[('Voldemort', 0.5814064741134644),\n",
       " ('Quirrell', 0.5672532320022583),\n",
       " ('McGonagall', 0.5618100166320801),\n",
       " ('Snape', 0.558242678642273),\n",
       " ('Slughorn', 0.5175069570541382),\n",
       " ('Trelawney', 0.5160765647888184),\n",
       " ('Moody', 0.5088180899620056),\n",
       " ('You-Know-Who', 0.4961373805999756),\n",
       " ('Fudge', 0.4755627512931824),\n",
       " ('Sprout', 0.47143012285232544)]"
      ]
     },
     "execution_count": 350,
     "metadata": {},
     "output_type": "execute_result"
    }
   ],
   "source": [
    "model.most_similar(positive = ['Malfoy', 'Dumbledore'], negative = ['Harry'], topn = 10)"
   ]
  },
  {
   "cell_type": "code",
   "execution_count": 349,
   "metadata": {
    "collapsed": false
   },
   "outputs": [
    {
     "data": {
      "text/plain": [
       "0.23077564783587678"
      ]
     },
     "execution_count": 349,
     "metadata": {},
     "output_type": "execute_result"
    }
   ],
   "source": [
    "model.similarity('Harry', 'Peter')"
   ]
  },
  {
   "cell_type": "code",
   "execution_count": 214,
   "metadata": {
    "collapsed": false
   },
   "outputs": [],
   "source": [
    "sentences = MySentences('harry_potter')\n",
    "model.train(sentences)"
   ]
  },
  {
   "cell_type": "code",
   "execution_count": 222,
   "metadata": {
    "collapsed": false
   },
   "outputs": [
    {
     "data": {
      "text/plain": [
       "[('Hermione', 0.36382853984832764),\n",
       " ('her', 0.26456218957901),\n",
       " ('Ginny', 0.25281503796577454),\n",
       " (\"Ron's\", 0.24278093874454498),\n",
       " ('Fred', 0.2421083152294159),\n",
       " ('wanting', 0.23902787268161774),\n",
       " ('them', 0.23778629302978516),\n",
       " ('Krum', 0.2302134782075882),\n",
       " ('Fat', 0.22389990091323853),\n",
       " ('him', 0.21573984622955322)]"
      ]
     },
     "execution_count": 222,
     "metadata": {},
     "output_type": "execute_result"
    }
   ],
   "source": []
  },
  {
   "cell_type": "code",
   "execution_count": 234,
   "metadata": {
    "collapsed": false,
    "scrolled": true
   },
   "outputs": [
    {
     "data": {
      "text/plain": [
       "[('he', 0.6603592038154602),\n",
       " ('He', 0.5858224034309387),\n",
       " ('Hermione', 0.4437968134880066),\n",
       " ('she', 0.4352525472640991),\n",
       " ('Frank', 0.38196608424186707),\n",
       " ('him', 0.3726317882537842),\n",
       " ('Ron', 0.36592867970466614),\n",
       " ('they', 0.3517574667930603),\n",
       " ('Hagrid', 0.34963470697402954),\n",
       " ('Dumbledore', 0.3127173185348511)]"
      ]
     },
     "execution_count": 234,
     "metadata": {},
     "output_type": "execute_result"
    }
   ],
   "source": [
    "model.most_similar(positive = ['Harry'], topn = 10)"
   ]
  },
  {
   "cell_type": "code",
   "execution_count": 133,
   "metadata": {
    "collapsed": false
   },
   "outputs": [
    {
     "data": {
      "text/plain": [
       "0.19681458012602723"
      ]
     },
     "execution_count": 133,
     "metadata": {},
     "output_type": "execute_result"
    }
   ],
   "source": []
  },
  {
   "cell_type": "code",
   "execution_count": 345,
   "metadata": {
    "collapsed": false
   },
   "outputs": [
    {
     "name": "stdout",
     "output_type": "stream",
     "text": [
      "4846\n",
      "['Aylar', 'hats', 'personally', 'all', 'yellow', 'amazement', 'four', 'protest', 'woods', 'sleep', 'spiders', 'hanging', 'stronger', 'ridiculous', 'oldest', 'hate', 'marching', 'trolley', 'Shunpike', 'Blast-Ended', 'feeding', 'swam', 'contained', 'containing', 'presents', 'fingernails', 'according', 'certain', \"Can't\", 'under', 'teaching', 'sorry', 'pride', 'worth', 'sinking', 'struck', 'louder', 'rescue', 'blanket', 'rise', 'song', 'stolen', 'every', 'foul', 'sleek', 'screaming', 'encounter', 'look', 'tickets', 'school', 'bewildered', 'prize', 'called', 'wooden', 'Curses', 'aiming', 'Does', 'shouting', 'greenish', 'Go', 'heading', 'triumph', 'clothes', 'enjoy', 'Leanne', 'parted', 'force', 'faintest', 'tired', 'ornate', 'feathers', 'direct', 'horn', 'scribbled', 'likely', 'persuade', 'broomstick', 'air', 'loathing', 'quill', 'shining', 'blue', 'Apparated', 'captain', 'hide', 'Gilderoy', 'forgetting', 'thunder', 'cooking', 'Mudbloods', 'weren', 'poison', 'lights', 'above', 'blur', 'zoomed', 'new', 'tips', 'upward', 'ever']\n"
     ]
    }
   ],
   "source": [
    "print len(model.vocab)\n",
    "print list(model.vocab)[:100]"
   ]
  },
  {
   "cell_type": "code",
   "execution_count": 376,
   "metadata": {
    "collapsed": false
   },
   "outputs": [
    {
     "data": {
      "text/plain": [
       "0.65237136780624727"
      ]
     },
     "execution_count": 376,
     "metadata": {},
     "output_type": "execute_result"
    }
   ],
   "source": [
    "model.similarity('man', 'boy')"
   ]
  },
  {
   "cell_type": "code",
   "execution_count": 11,
   "metadata": {
    "collapsed": false,
    "scrolled": true
   },
   "outputs": [
    {
     "data": {
      "text/plain": [
       "[('Harry', 0.6313201785087585),\n",
       " ('he', 0.5895937085151672),\n",
       " ('Neville', 0.5751792192459106),\n",
       " ('Cho', 0.5731143355369568),\n",
       " ('him', 0.5708431601524353),\n",
       " ('Snape', 0.5683074593544006),\n",
       " ('Hermione', 0.5656015872955322),\n",
       " ('Ginny', 0.5607053637504578),\n",
       " ('Tci', 0.5568682551383972),\n",
       " ('Hagrid', 0.5517871379852295)]"
      ]
     },
     "execution_count": 11,
     "metadata": {},
     "output_type": "execute_result"
    }
   ],
   "source": [
    "# test = 'though could not remember the name'.split(' ')\n",
    "model.most_similar('Malfoy')"
   ]
  },
  {
   "cell_type": "code",
   "execution_count": 9,
   "metadata": {
    "collapsed": false
   },
   "outputs": [],
   "source": [
    "model.save('w2v_harry_potter')"
   ]
  },
  {
   "cell_type": "code",
   "execution_count": 10,
   "metadata": {
    "collapsed": true
   },
   "outputs": [],
   "source": [
    "model = gensim.models.Word2Vec.load('w2v_harry_potter')"
   ]
  },
  {
   "cell_type": "code",
   "execution_count": 4,
   "metadata": {
    "collapsed": false
   },
   "outputs": [
    {
     "data": {
      "text/plain": [
       "(100,)"
      ]
     },
     "execution_count": 4,
     "metadata": {},
     "output_type": "execute_result"
    }
   ],
   "source": [
    "model['Harry'].shape"
   ]
  },
  {
   "cell_type": "code",
   "execution_count": 13,
   "metadata": {
    "collapsed": false
   },
   "outputs": [
    {
     "data": {
      "text/plain": [
       "<__main__.MySentences at 0x7f59812295d0>"
      ]
     },
     "execution_count": 13,
     "metadata": {},
     "output_type": "execute_result"
    }
   ],
   "source": [
    "sentences = MySentences('harry_potter')\n",
    "sentences"
   ]
  },
  {
   "cell_type": "code",
   "execution_count": null,
   "metadata": {
    "collapsed": true
   },
   "outputs": [],
   "source": []
  }
 ],
 "metadata": {
  "kernelspec": {
   "display_name": "Python 2",
   "language": "python",
   "name": "python2"
  },
  "language_info": {
   "codemirror_mode": {
    "name": "ipython",
    "version": 2
   },
   "file_extension": ".py",
   "mimetype": "text/x-python",
   "name": "python",
   "nbconvert_exporter": "python",
   "pygments_lexer": "ipython2",
   "version": "2.7.11"
  }
 },
 "nbformat": 4,
 "nbformat_minor": 0
}
